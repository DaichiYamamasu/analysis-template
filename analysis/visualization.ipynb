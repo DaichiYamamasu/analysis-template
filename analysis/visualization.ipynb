{
 "cells": [
  {
   "cell_type": "markdown",
   "id": "6586d27e-222d-4598-bf7f-3fc7aa016884",
   "metadata": {},
   "source": [
    "### 0.ライブラリ・DataFrameインポート"
   ]
  },
  {
   "cell_type": "code",
   "execution_count": 133,
   "id": "084e1df8-75f6-41ce-bfbf-0c0de64c5624",
   "metadata": {},
   "outputs": [],
   "source": [
    "import pandas as pd\n",
    "import numpy as np\n",
    "import datetime\n",
    "import seaborn as sns\n",
    "import matplotlib.pyplot as plt\n",
    "import matplotlib.dates as mdates"
   ]
  },
  {
   "cell_type": "code",
   "execution_count": 2,
   "id": "a8490050-d6d2-4963-86f6-3ee365fa26a0",
   "metadata": {},
   "outputs": [],
   "source": [
    "df_user = pd.read_csv('psdemo.csv', encoding='utf-8-sig')"
   ]
  },
  {
   "cell_type": "code",
   "execution_count": 22,
   "id": "9b2e442f-127e-4bf1-adad-ed11a1b8e817",
   "metadata": {},
   "outputs": [],
   "source": [
    "df_user = df_user[df_user['S_CLIMATE_RECESSSAFETY'] >= 0]"
   ]
  },
  {
   "cell_type": "code",
   "execution_count": 47,
   "id": "b4a21f44-c37d-4efa-a8d5-2e3537b65baf",
   "metadata": {},
   "outputs": [],
   "source": [
    "df_user = df_user[df_user['S_CLIMATE_COMMUNITY'] >= 0]"
   ]
  },
  {
   "cell_type": "code",
   "execution_count": 104,
   "id": "e4028ce3-b4f3-404e-9df3-2a5f4bb762b3",
   "metadata": {},
   "outputs": [],
   "source": [
    "df_user = df_user[df_user['student_gender'] >= 0]"
   ]
  },
  {
   "cell_type": "code",
   "execution_count": 105,
   "id": "106b4541-168c-45c3-8a2c-0e9f70df793a",
   "metadata": {},
   "outputs": [
    {
     "data": {
      "text/html": [
       "<div>\n",
       "<style scoped>\n",
       "    .dataframe tbody tr th:only-of-type {\n",
       "        vertical-align: middle;\n",
       "    }\n",
       "\n",
       "    .dataframe tbody tr th {\n",
       "        vertical-align: top;\n",
       "    }\n",
       "\n",
       "    .dataframe thead th {\n",
       "        text-align: right;\n",
       "    }\n",
       "</style>\n",
       "<table border=\"1\" class=\"dataframe\">\n",
       "  <thead>\n",
       "    <tr style=\"text-align: right;\">\n",
       "      <th></th>\n",
       "      <th>student_id</th>\n",
       "      <th>teacher_id</th>\n",
       "      <th>School_id</th>\n",
       "      <th>district_id</th>\n",
       "      <th>s_treatment</th>\n",
       "      <th>S_CLIMATE_RECESSSAFETY</th>\n",
       "      <th>student_gender</th>\n",
       "      <th>s_grade</th>\n",
       "      <th>S_CLIMATE_COMMUNITY</th>\n",
       "      <th>S_CLIMATE_SCHOOLSAFETY</th>\n",
       "      <th>...</th>\n",
       "      <th>S_LEARNING_RECESSEFFECT</th>\n",
       "      <th>S_LEARNING_SPORTSEFFECT</th>\n",
       "      <th>S_LEARNING_ENGAGEMENT</th>\n",
       "      <th>S_RECESS_ORGANIZED</th>\n",
       "      <th>S_RECESS_ENJOYMENT</th>\n",
       "      <th>S_YOUTHDEV_INTERACTIONS</th>\n",
       "      <th>S_YOUTHDEV_PEERCONFLICT</th>\n",
       "      <th>S_YOUTHDEV_PEERNONCONFLICT</th>\n",
       "      <th>S_PHYSICAL_SELFCONCEPT</th>\n",
       "      <th>PS</th>\n",
       "    </tr>\n",
       "  </thead>\n",
       "  <tbody>\n",
       "    <tr>\n",
       "      <th>0</th>\n",
       "      <td>2273</td>\n",
       "      <td>48376</td>\n",
       "      <td>8117</td>\n",
       "      <td>323</td>\n",
       "      <td>0</td>\n",
       "      <td>2.00</td>\n",
       "      <td>1</td>\n",
       "      <td>5</td>\n",
       "      <td>1.92</td>\n",
       "      <td>2.00</td>\n",
       "      <td>...</td>\n",
       "      <td>2.67</td>\n",
       "      <td>1.00</td>\n",
       "      <td>3.8</td>\n",
       "      <td>0.00</td>\n",
       "      <td>3.71</td>\n",
       "      <td>3.83</td>\n",
       "      <td>1.13</td>\n",
       "      <td>3.25</td>\n",
       "      <td>1.09</td>\n",
       "      <td>0.045787</td>\n",
       "    </tr>\n",
       "    <tr>\n",
       "      <th>1</th>\n",
       "      <td>3973</td>\n",
       "      <td>85278</td>\n",
       "      <td>3607</td>\n",
       "      <td>539</td>\n",
       "      <td>1</td>\n",
       "      <td>2.75</td>\n",
       "      <td>0</td>\n",
       "      <td>4</td>\n",
       "      <td>2.77</td>\n",
       "      <td>2.25</td>\n",
       "      <td>...</td>\n",
       "      <td>1.67</td>\n",
       "      <td>2.67</td>\n",
       "      <td>3.5</td>\n",
       "      <td>2.50</td>\n",
       "      <td>3.86</td>\n",
       "      <td>3.83</td>\n",
       "      <td>2.25</td>\n",
       "      <td>2.00</td>\n",
       "      <td>1.82</td>\n",
       "      <td>0.094363</td>\n",
       "    </tr>\n",
       "    <tr>\n",
       "      <th>2</th>\n",
       "      <td>5133</td>\n",
       "      <td>42259</td>\n",
       "      <td>2917</td>\n",
       "      <td>425</td>\n",
       "      <td>0</td>\n",
       "      <td>1.75</td>\n",
       "      <td>1</td>\n",
       "      <td>4</td>\n",
       "      <td>3.15</td>\n",
       "      <td>1.50</td>\n",
       "      <td>...</td>\n",
       "      <td>2.00</td>\n",
       "      <td>1.00</td>\n",
       "      <td>3.7</td>\n",
       "      <td>2.33</td>\n",
       "      <td>3.86</td>\n",
       "      <td>3.17</td>\n",
       "      <td>2.00</td>\n",
       "      <td>1.50</td>\n",
       "      <td>1.64</td>\n",
       "      <td>0.159266</td>\n",
       "    </tr>\n",
       "    <tr>\n",
       "      <th>3</th>\n",
       "      <td>5443</td>\n",
       "      <td>22956</td>\n",
       "      <td>5740</td>\n",
       "      <td>912</td>\n",
       "      <td>0</td>\n",
       "      <td>3.00</td>\n",
       "      <td>0</td>\n",
       "      <td>4</td>\n",
       "      <td>2.73</td>\n",
       "      <td>3.00</td>\n",
       "      <td>...</td>\n",
       "      <td>2.00</td>\n",
       "      <td>3.33</td>\n",
       "      <td>3.4</td>\n",
       "      <td>0.00</td>\n",
       "      <td>2.57</td>\n",
       "      <td>1.33</td>\n",
       "      <td>1.00</td>\n",
       "      <td>1.00</td>\n",
       "      <td>1.45</td>\n",
       "      <td>0.052122</td>\n",
       "    </tr>\n",
       "    <tr>\n",
       "      <th>4</th>\n",
       "      <td>8134</td>\n",
       "      <td>92676</td>\n",
       "      <td>2917</td>\n",
       "      <td>425</td>\n",
       "      <td>0</td>\n",
       "      <td>3.00</td>\n",
       "      <td>0</td>\n",
       "      <td>4</td>\n",
       "      <td>2.92</td>\n",
       "      <td>2.75</td>\n",
       "      <td>...</td>\n",
       "      <td>3.00</td>\n",
       "      <td>2.67</td>\n",
       "      <td>2.7</td>\n",
       "      <td>2.50</td>\n",
       "      <td>4.00</td>\n",
       "      <td>3.67</td>\n",
       "      <td>2.75</td>\n",
       "      <td>2.25</td>\n",
       "      <td>1.73</td>\n",
       "      <td>0.196425</td>\n",
       "    </tr>\n",
       "  </tbody>\n",
       "</table>\n",
       "<p>5 rows × 23 columns</p>\n",
       "</div>"
      ],
      "text/plain": [
       "   student_id  teacher_id  School_id  district_id  s_treatment  \\\n",
       "0        2273       48376       8117          323            0   \n",
       "1        3973       85278       3607          539            1   \n",
       "2        5133       42259       2917          425            0   \n",
       "3        5443       22956       5740          912            0   \n",
       "4        8134       92676       2917          425            0   \n",
       "\n",
       "   S_CLIMATE_RECESSSAFETY  student_gender  s_grade  S_CLIMATE_COMMUNITY  \\\n",
       "0                    2.00               1        5                 1.92   \n",
       "1                    2.75               0        4                 2.77   \n",
       "2                    1.75               1        4                 3.15   \n",
       "3                    3.00               0        4                 2.73   \n",
       "4                    3.00               0        4                 2.92   \n",
       "\n",
       "   S_CLIMATE_SCHOOLSAFETY  ...  S_LEARNING_RECESSEFFECT  \\\n",
       "0                    2.00  ...                     2.67   \n",
       "1                    2.25  ...                     1.67   \n",
       "2                    1.50  ...                     2.00   \n",
       "3                    3.00  ...                     2.00   \n",
       "4                    2.75  ...                     3.00   \n",
       "\n",
       "   S_LEARNING_SPORTSEFFECT  S_LEARNING_ENGAGEMENT  S_RECESS_ORGANIZED  \\\n",
       "0                     1.00                    3.8                0.00   \n",
       "1                     2.67                    3.5                2.50   \n",
       "2                     1.00                    3.7                2.33   \n",
       "3                     3.33                    3.4                0.00   \n",
       "4                     2.67                    2.7                2.50   \n",
       "\n",
       "   S_RECESS_ENJOYMENT  S_YOUTHDEV_INTERACTIONS  S_YOUTHDEV_PEERCONFLICT  \\\n",
       "0                3.71                     3.83                     1.13   \n",
       "1                3.86                     3.83                     2.25   \n",
       "2                3.86                     3.17                     2.00   \n",
       "3                2.57                     1.33                     1.00   \n",
       "4                4.00                     3.67                     2.75   \n",
       "\n",
       "   S_YOUTHDEV_PEERNONCONFLICT  S_PHYSICAL_SELFCONCEPT        PS  \n",
       "0                        3.25                    1.09  0.045787  \n",
       "1                        2.00                    1.82  0.094363  \n",
       "2                        1.50                    1.64  0.159266  \n",
       "3                        1.00                    1.45  0.052122  \n",
       "4                        2.25                    1.73  0.196425  \n",
       "\n",
       "[5 rows x 23 columns]"
      ]
     },
     "execution_count": 105,
     "metadata": {},
     "output_type": "execute_result"
    }
   ],
   "source": [
    "df_user.head()"
   ]
  },
  {
   "cell_type": "code",
   "execution_count": 7,
   "id": "61da432e-f19a-4cbd-9d60-91d0b86c804c",
   "metadata": {},
   "outputs": [],
   "source": [
    "df_time = pd.read_csv('bquxjob_6977cbe1_18ac21adf4b.csv', encoding='utf-8-sig')"
   ]
  },
  {
   "cell_type": "code",
   "execution_count": 112,
   "id": "0e1b78f2-1a8e-48f1-bfbf-6d3e8c780944",
   "metadata": {},
   "outputs": [
    {
     "data": {
      "text/html": [
       "<div>\n",
       "<style scoped>\n",
       "    .dataframe tbody tr th:only-of-type {\n",
       "        vertical-align: middle;\n",
       "    }\n",
       "\n",
       "    .dataframe tbody tr th {\n",
       "        vertical-align: top;\n",
       "    }\n",
       "\n",
       "    .dataframe thead th {\n",
       "        text-align: right;\n",
       "    }\n",
       "</style>\n",
       "<table border=\"1\" class=\"dataframe\">\n",
       "  <thead>\n",
       "    <tr style=\"text-align: right;\">\n",
       "      <th></th>\n",
       "      <th>date</th>\n",
       "      <th>country</th>\n",
       "      <th>region_code</th>\n",
       "      <th>name</th>\n",
       "      <th>province_code</th>\n",
       "      <th>province_name</th>\n",
       "      <th>province_abbreviation</th>\n",
       "      <th>latitude</th>\n",
       "      <th>longitude</th>\n",
       "      <th>location_geom</th>\n",
       "      <th>confirmed_cases</th>\n",
       "      <th>note</th>\n",
       "    </tr>\n",
       "  </thead>\n",
       "  <tbody>\n",
       "    <tr>\n",
       "      <th>0</th>\n",
       "      <td>2020-06-25 17:00:00.000000 UTC</td>\n",
       "      <td>ITA</td>\n",
       "      <td>13</td>\n",
       "      <td>Abruzzo</td>\n",
       "      <td>879</td>\n",
       "      <td>Fuori Regione / Provincia Autonoma</td>\n",
       "      <td>NaN</td>\n",
       "      <td>NaN</td>\n",
       "      <td>NaN</td>\n",
       "      <td>NaN</td>\n",
       "      <td>25</td>\n",
       "      <td>NaN</td>\n",
       "    </tr>\n",
       "    <tr>\n",
       "      <th>1</th>\n",
       "      <td>2020-06-26 17:00:00.000000 UTC</td>\n",
       "      <td>ITA</td>\n",
       "      <td>13</td>\n",
       "      <td>Abruzzo</td>\n",
       "      <td>879</td>\n",
       "      <td>Fuori Regione / Provincia Autonoma</td>\n",
       "      <td>NaN</td>\n",
       "      <td>NaN</td>\n",
       "      <td>NaN</td>\n",
       "      <td>NaN</td>\n",
       "      <td>25</td>\n",
       "      <td>NaN</td>\n",
       "    </tr>\n",
       "    <tr>\n",
       "      <th>2</th>\n",
       "      <td>2020-06-27 17:00:00.000000 UTC</td>\n",
       "      <td>ITA</td>\n",
       "      <td>13</td>\n",
       "      <td>Abruzzo</td>\n",
       "      <td>879</td>\n",
       "      <td>Fuori Regione / Provincia Autonoma</td>\n",
       "      <td>NaN</td>\n",
       "      <td>NaN</td>\n",
       "      <td>NaN</td>\n",
       "      <td>NaN</td>\n",
       "      <td>25</td>\n",
       "      <td>NaN</td>\n",
       "    </tr>\n",
       "    <tr>\n",
       "      <th>3</th>\n",
       "      <td>2020-06-28 17:00:00.000000 UTC</td>\n",
       "      <td>ITA</td>\n",
       "      <td>13</td>\n",
       "      <td>Abruzzo</td>\n",
       "      <td>879</td>\n",
       "      <td>Fuori Regione / Provincia Autonoma</td>\n",
       "      <td>NaN</td>\n",
       "      <td>NaN</td>\n",
       "      <td>NaN</td>\n",
       "      <td>NaN</td>\n",
       "      <td>25</td>\n",
       "      <td>NaN</td>\n",
       "    </tr>\n",
       "    <tr>\n",
       "      <th>4</th>\n",
       "      <td>2020-06-29 17:00:00.000000 UTC</td>\n",
       "      <td>ITA</td>\n",
       "      <td>13</td>\n",
       "      <td>Abruzzo</td>\n",
       "      <td>879</td>\n",
       "      <td>Fuori Regione / Provincia Autonoma</td>\n",
       "      <td>NaN</td>\n",
       "      <td>NaN</td>\n",
       "      <td>NaN</td>\n",
       "      <td>NaN</td>\n",
       "      <td>25</td>\n",
       "      <td>NaN</td>\n",
       "    </tr>\n",
       "  </tbody>\n",
       "</table>\n",
       "</div>"
      ],
      "text/plain": [
       "                             date country  region_code     name  \\\n",
       "0  2020-06-25 17:00:00.000000 UTC     ITA           13  Abruzzo   \n",
       "1  2020-06-26 17:00:00.000000 UTC     ITA           13  Abruzzo   \n",
       "2  2020-06-27 17:00:00.000000 UTC     ITA           13  Abruzzo   \n",
       "3  2020-06-28 17:00:00.000000 UTC     ITA           13  Abruzzo   \n",
       "4  2020-06-29 17:00:00.000000 UTC     ITA           13  Abruzzo   \n",
       "\n",
       "   province_code                       province_name province_abbreviation  \\\n",
       "0            879  Fuori Regione / Provincia Autonoma                   NaN   \n",
       "1            879  Fuori Regione / Provincia Autonoma                   NaN   \n",
       "2            879  Fuori Regione / Provincia Autonoma                   NaN   \n",
       "3            879  Fuori Regione / Provincia Autonoma                   NaN   \n",
       "4            879  Fuori Regione / Provincia Autonoma                   NaN   \n",
       "\n",
       "   latitude  longitude location_geom  confirmed_cases note  \n",
       "0       NaN        NaN           NaN               25  NaN  \n",
       "1       NaN        NaN           NaN               25  NaN  \n",
       "2       NaN        NaN           NaN               25  NaN  \n",
       "3       NaN        NaN           NaN               25  NaN  \n",
       "4       NaN        NaN           NaN               25  NaN  "
      ]
     },
     "execution_count": 112,
     "metadata": {},
     "output_type": "execute_result"
    }
   ],
   "source": [
    "df_time.head()"
   ]
  },
  {
   "cell_type": "code",
   "execution_count": 115,
   "id": "fdfffc4c-27d6-4b9d-ab1a-ad9199d771cb",
   "metadata": {},
   "outputs": [],
   "source": [
    "df_time['date'] = pd.to_datetime(df_time['date'])"
   ]
  },
  {
   "cell_type": "code",
   "execution_count": 126,
   "id": "8efe1fa3-c7e1-4b95-9d1c-479b1bcd91ee",
   "metadata": {},
   "outputs": [],
   "source": [
    "df_time_1 = df_time.groupby('date', as_index=False).agg({'country': 'count'})"
   ]
  },
  {
   "cell_type": "code",
   "execution_count": 127,
   "id": "da0bc233-a5c1-4c8d-ad13-491762e5442c",
   "metadata": {},
   "outputs": [
    {
     "data": {
      "text/html": [
       "<div>\n",
       "<style scoped>\n",
       "    .dataframe tbody tr th:only-of-type {\n",
       "        vertical-align: middle;\n",
       "    }\n",
       "\n",
       "    .dataframe tbody tr th {\n",
       "        vertical-align: top;\n",
       "    }\n",
       "\n",
       "    .dataframe thead th {\n",
       "        text-align: right;\n",
       "    }\n",
       "</style>\n",
       "<table border=\"1\" class=\"dataframe\">\n",
       "  <thead>\n",
       "    <tr style=\"text-align: right;\">\n",
       "      <th></th>\n",
       "      <th>date</th>\n",
       "      <th>country</th>\n",
       "    </tr>\n",
       "  </thead>\n",
       "  <tbody>\n",
       "    <tr>\n",
       "      <th>1300</th>\n",
       "      <td>2023-09-16 17:00:00+00:00</td>\n",
       "      <td>57</td>\n",
       "    </tr>\n",
       "    <tr>\n",
       "      <th>1301</th>\n",
       "      <td>2023-09-17 17:00:00+00:00</td>\n",
       "      <td>57</td>\n",
       "    </tr>\n",
       "    <tr>\n",
       "      <th>1302</th>\n",
       "      <td>2023-09-18 17:00:00+00:00</td>\n",
       "      <td>57</td>\n",
       "    </tr>\n",
       "    <tr>\n",
       "      <th>1303</th>\n",
       "      <td>2023-09-19 17:00:00+00:00</td>\n",
       "      <td>57</td>\n",
       "    </tr>\n",
       "    <tr>\n",
       "      <th>1304</th>\n",
       "      <td>2023-09-20 17:00:00+00:00</td>\n",
       "      <td>57</td>\n",
       "    </tr>\n",
       "  </tbody>\n",
       "</table>\n",
       "</div>"
      ],
      "text/plain": [
       "                          date  country\n",
       "1300 2023-09-16 17:00:00+00:00       57\n",
       "1301 2023-09-17 17:00:00+00:00       57\n",
       "1302 2023-09-18 17:00:00+00:00       57\n",
       "1303 2023-09-19 17:00:00+00:00       57\n",
       "1304 2023-09-20 17:00:00+00:00       57"
      ]
     },
     "execution_count": 127,
     "metadata": {},
     "output_type": "execute_result"
    }
   ],
   "source": [
    "df_time_1.tail()"
   ]
  },
  {
   "cell_type": "markdown",
   "id": "4334058b-0e60-469f-8fe3-f4c6f9abb87a",
   "metadata": {},
   "source": [
    "### 1.ヒストグラム"
   ]
  },
  {
   "cell_type": "markdown",
   "id": "903c23a3-30d5-4ba9-8d42-3dad0fdcb2a2",
   "metadata": {},
   "source": [
    "#### 単一の変数のヒストグラム"
   ]
  },
  {
   "cell_type": "code",
   "execution_count": 142,
   "id": "7b954781-1810-4836-98bc-16892ea83dc0",
   "metadata": {},
   "outputs": [
    {
     "data": {
      "image/png": "[encoded data removed]",
      "text/plain": [
       "<Figure size 432x288 with 1 Axes>"
      ]
     },
     "metadata": {},
     "output_type": "display_data"
    }
   ],
   "source": [
    "#plt.xlim(5, 55)                           #x軸の表示範囲\n",
    "#plt.ylim(0, 30)                           #y軸の表示範囲\n",
    "plt.title(\"sample hist\", fontsize=14)      #グラフのタイトル\n",
    "plt.xlabel(\"security\", fontsize=14)        #x軸ラベル名\n",
    "#plt.ylabel(\"Frequency\", fontsize=20)      #y軸ラベル名\n",
    "plt.grid(False)                            #目盛線の表示\n",
    "plt.tick_params(labelsize = 14)            #目盛線のラベルサイズ \n",
    "sns.histplot(\n",
    "    x='S_CLIMATE_RECESSSAFETY',            #変数\n",
    "    bins=10,                               #階級\n",
    "    hue='s_treatment',                     #ラベル変数\n",
    "    multiple='dodge',                      #ラベルごとのデータを横に並べる\n",
    "    data=df_user\n",
    ")\n",
    "plt.show()"
   ]
  },
  {
   "cell_type": "markdown",
   "id": "c4acb886-0a9b-4d5b-9444-ad1691927000",
   "metadata": {},
   "source": [
    "#### ヒストグラムを重ねる"
   ]
  },
  {
   "cell_type": "code",
   "execution_count": 83,
   "id": "14360218-df39-4bde-84f5-ef7452e06941",
   "metadata": {},
   "outputs": [
    {
     "data": {
      "image/png": "[encoded data removed]",
      "text/plain": [
       "<Figure size 432x288 with 1 Axes>"
      ]
     },
     "metadata": {
      "needs_background": "light"
     },
     "output_type": "display_data"
    }
   ],
   "source": [
    "plt.hist(\n",
    "    'S_CLIMATE_RECESSSAFETY',\n",
    "    alpha=0.5,                           #データの透明度\n",
    "    ec='black',\n",
    "    data=df_user\n",
    ")\n",
    "plt.hist(\n",
    "    'S_CLIMATE_COMMUNITY',\n",
    "    alpha=0.3,                           #データの透明度\n",
    "    ec='black',\n",
    "    data=df_user\n",
    ")\n",
    "plt.legend([\"A\", \"B\"],                   #凡例名\n",
    "           loc=\"upper left\",             #凡例位置\n",
    "           fontsize=10                   #文字サイズ\n",
    ")\n",
    "plt.show()"
   ]
  },
  {
   "cell_type": "markdown",
   "id": "f1bedd1b-f65b-4008-b0e1-98044a6e0044",
   "metadata": {},
   "source": [
    "#### まとめてヒストグラム化する"
   ]
  },
  {
   "cell_type": "code",
   "execution_count": 74,
   "id": "36f06e34-3264-4a98-a805-f0171656bb6e",
   "metadata": {},
   "outputs": [
    {
     "data": {
      "image/png": "[encoded data removed]",
      "text/plain": [
       "<Figure size 1152x1440 with 25 Axes>"
      ]
     },
     "metadata": {
      "needs_background": "light"
     },
     "output_type": "display_data"
    }
   ],
   "source": [
    "df_user.hist(figsize=(16, 20),\n",
    "             bins=25,\n",
    "             xlabelsize=8,\n",
    "             ylabelsize=8\n",
    ")\n",
    "plt.show()"
   ]
  },
  {
   "cell_type": "markdown",
   "id": "c9657a59-95a7-4e87-a552-7e077cbc7592",
   "metadata": {},
   "source": [
    "### 2.箱ヒゲ図"
   ]
  },
  {
   "cell_type": "markdown",
   "id": "dbdf201d-88e1-4c49-8bf0-0f5f72b6580f",
   "metadata": {},
   "source": [
    "#### 変数ごとの箱ヒゲ図"
   ]
  },
  {
   "cell_type": "code",
   "execution_count": 85,
   "id": "0dd1b3ce-a3a6-4dfd-8c60-1755a313ebd4",
   "metadata": {},
   "outputs": [
    {
     "data": {
      "image/png": "[encoded data removed]",
      "text/plain": [
       "<Figure size 432x288 with 1 Axes>"
      ]
     },
     "metadata": {},
     "output_type": "display_data"
    }
   ],
   "source": [
    "sns.set()\n",
    "sns.set_style('whitegrid')\n",
    "sns.boxplot(\n",
    "    y='S_CLIMATE_RECESSSAFETY',        #y軸\n",
    "    x='s_treatment',                   #x軸\n",
    "    data=df_user\n",
    ")\n",
    "plt.show()"
   ]
  },
  {
   "cell_type": "markdown",
   "id": "5d9fd7c2-2706-41a4-950e-69865d06eeb7",
   "metadata": {},
   "source": [
    "#### データの値を可視化する"
   ]
  },
  {
   "cell_type": "code",
   "execution_count": 88,
   "id": "78d654c1-d5f9-4af8-8d6c-82240e09d80e",
   "metadata": {},
   "outputs": [
    {
     "data": {
      "image/png": "[encoded data removed]",
      "text/plain": [
       "<Figure size 432x288 with 1 Axes>"
      ]
     },
     "metadata": {},
     "output_type": "display_data"
    }
   ],
   "source": [
    "sns.set()\n",
    "sns.set_style('whitegrid')\n",
    "sns.boxplot(\n",
    "    y='S_CLIMATE_COMMUNITY',\n",
    "    x='s_treatment',\n",
    "    showfliers=False,\n",
    "    data=df_user\n",
    ")\n",
    "sns.stripplot(\n",
    "    y='S_CLIMATE_COMMUNITY',\n",
    "    x='s_treatment',\n",
    "    jitter=True,\n",
    "    color='black',\n",
    "    data=df_user\n",
    ")\n",
    "plt.show()"
   ]
  },
  {
   "cell_type": "markdown",
   "id": "01117860-4120-4c33-9e3b-4f81f01f2bd2",
   "metadata": {},
   "source": [
    "### 3.クロス集計"
   ]
  },
  {
   "cell_type": "markdown",
   "id": "3983515f-bfe4-4dba-8b59-2bb831240828",
   "metadata": {},
   "source": [
    "#### 単一の変数を単一の集計形式で集計"
   ]
  },
  {
   "cell_type": "code",
   "execution_count": 94,
   "id": "e9a6d035-9cca-4612-b586-c2d66c842fc7",
   "metadata": {},
   "outputs": [
    {
     "data": {
      "text/html": [
       "<div>\n",
       "<style scoped>\n",
       "    .dataframe tbody tr th:only-of-type {\n",
       "        vertical-align: middle;\n",
       "    }\n",
       "\n",
       "    .dataframe tbody tr th {\n",
       "        vertical-align: top;\n",
       "    }\n",
       "\n",
       "    .dataframe thead th {\n",
       "        text-align: right;\n",
       "    }\n",
       "</style>\n",
       "<table border=\"1\" class=\"dataframe\">\n",
       "  <thead>\n",
       "    <tr style=\"text-align: right;\">\n",
       "      <th></th>\n",
       "      <th>s_treatment</th>\n",
       "      <th>student_gender</th>\n",
       "    </tr>\n",
       "  </thead>\n",
       "  <tbody>\n",
       "    <tr>\n",
       "      <th>0</th>\n",
       "      <td>0</td>\n",
       "      <td>829</td>\n",
       "    </tr>\n",
       "    <tr>\n",
       "      <th>1</th>\n",
       "      <td>1</td>\n",
       "      <td>147</td>\n",
       "    </tr>\n",
       "  </tbody>\n",
       "</table>\n",
       "</div>"
      ],
      "text/plain": [
       "   s_treatment  student_gender\n",
       "0            0             829\n",
       "1            1             147"
      ]
     },
     "execution_count": 94,
     "metadata": {},
     "output_type": "execute_result"
    }
   ],
   "source": [
    "df_user.groupby('s_treatment', as_index=False).agg({'student_gender': 'count'})"
   ]
  },
  {
   "cell_type": "markdown",
   "id": "f1eb4756-31f9-4822-b810-febed8fc0832",
   "metadata": {},
   "source": [
    "#### 全ての変数に対して複数の集計形式で集計"
   ]
  },
  {
   "cell_type": "code",
   "execution_count": 97,
   "id": "745d62ca-88d9-452b-abd2-a25c6fe60520",
   "metadata": {},
   "outputs": [
    {
     "data": {
      "text/html": [
       "<div>\n",
       "<style scoped>\n",
       "    .dataframe tbody tr th:only-of-type {\n",
       "        vertical-align: middle;\n",
       "    }\n",
       "\n",
       "    .dataframe tbody tr th {\n",
       "        vertical-align: top;\n",
       "    }\n",
       "\n",
       "    .dataframe thead tr th {\n",
       "        text-align: left;\n",
       "    }\n",
       "\n",
       "    .dataframe thead tr:last-of-type th {\n",
       "        text-align: right;\n",
       "    }\n",
       "</style>\n",
       "<table border=\"1\" class=\"dataframe\">\n",
       "  <thead>\n",
       "    <tr>\n",
       "      <th></th>\n",
       "      <th colspan=\"2\" halign=\"left\">student_id</th>\n",
       "      <th colspan=\"2\" halign=\"left\">teacher_id</th>\n",
       "      <th colspan=\"2\" halign=\"left\">School_id</th>\n",
       "      <th colspan=\"2\" halign=\"left\">district_id</th>\n",
       "      <th colspan=\"2\" halign=\"left\">S_CLIMATE_RECESSSAFETY</th>\n",
       "      <th>...</th>\n",
       "      <th colspan=\"2\" halign=\"left\">S_YOUTHDEV_INTERACTIONS</th>\n",
       "      <th colspan=\"2\" halign=\"left\">S_YOUTHDEV_PEERCONFLICT</th>\n",
       "      <th colspan=\"2\" halign=\"left\">S_YOUTHDEV_PEERNONCONFLICT</th>\n",
       "      <th colspan=\"2\" halign=\"left\">S_PHYSICAL_SELFCONCEPT</th>\n",
       "      <th colspan=\"2\" halign=\"left\">PS</th>\n",
       "    </tr>\n",
       "    <tr>\n",
       "      <th></th>\n",
       "      <th>count</th>\n",
       "      <th>sum</th>\n",
       "      <th>count</th>\n",
       "      <th>sum</th>\n",
       "      <th>count</th>\n",
       "      <th>sum</th>\n",
       "      <th>count</th>\n",
       "      <th>sum</th>\n",
       "      <th>count</th>\n",
       "      <th>sum</th>\n",
       "      <th>...</th>\n",
       "      <th>count</th>\n",
       "      <th>sum</th>\n",
       "      <th>count</th>\n",
       "      <th>sum</th>\n",
       "      <th>count</th>\n",
       "      <th>sum</th>\n",
       "      <th>count</th>\n",
       "      <th>sum</th>\n",
       "      <th>count</th>\n",
       "      <th>sum</th>\n",
       "    </tr>\n",
       "    <tr>\n",
       "      <th>s_treatment</th>\n",
       "      <th></th>\n",
       "      <th></th>\n",
       "      <th></th>\n",
       "      <th></th>\n",
       "      <th></th>\n",
       "      <th></th>\n",
       "      <th></th>\n",
       "      <th></th>\n",
       "      <th></th>\n",
       "      <th></th>\n",
       "      <th></th>\n",
       "      <th></th>\n",
       "      <th></th>\n",
       "      <th></th>\n",
       "      <th></th>\n",
       "      <th></th>\n",
       "      <th></th>\n",
       "      <th></th>\n",
       "      <th></th>\n",
       "      <th></th>\n",
       "      <th></th>\n",
       "    </tr>\n",
       "  </thead>\n",
       "  <tbody>\n",
       "    <tr>\n",
       "      <th>0</th>\n",
       "      <td>829</td>\n",
       "      <td>430645697</td>\n",
       "      <td>829</td>\n",
       "      <td>46296597</td>\n",
       "      <td>829</td>\n",
       "      <td>3230485</td>\n",
       "      <td>829</td>\n",
       "      <td>505216</td>\n",
       "      <td>829</td>\n",
       "      <td>2172.43</td>\n",
       "      <td>...</td>\n",
       "      <td>829</td>\n",
       "      <td>2560.17</td>\n",
       "      <td>829</td>\n",
       "      <td>1575.50</td>\n",
       "      <td>829</td>\n",
       "      <td>1230.75</td>\n",
       "      <td>829</td>\n",
       "      <td>1372.54</td>\n",
       "      <td>829</td>\n",
       "      <td>113.251941</td>\n",
       "    </tr>\n",
       "    <tr>\n",
       "      <th>1</th>\n",
       "      <td>147</td>\n",
       "      <td>71404704</td>\n",
       "      <td>147</td>\n",
       "      <td>7846533</td>\n",
       "      <td>147</td>\n",
       "      <td>530229</td>\n",
       "      <td>147</td>\n",
       "      <td>79233</td>\n",
       "      <td>147</td>\n",
       "      <td>425.66</td>\n",
       "      <td>...</td>\n",
       "      <td>147</td>\n",
       "      <td>487.99</td>\n",
       "      <td>147</td>\n",
       "      <td>326.31</td>\n",
       "      <td>147</td>\n",
       "      <td>271.00</td>\n",
       "      <td>147</td>\n",
       "      <td>254.34</td>\n",
       "      <td>147</td>\n",
       "      <td>33.246415</td>\n",
       "    </tr>\n",
       "  </tbody>\n",
       "</table>\n",
       "<p>2 rows × 44 columns</p>\n",
       "</div>"
      ],
      "text/plain": [
       "            student_id            teacher_id           School_id           \\\n",
       "                 count        sum      count       sum     count      sum   \n",
       "s_treatment                                                                 \n",
       "0                  829  430645697        829  46296597       829  3230485   \n",
       "1                  147   71404704        147   7846533       147   530229   \n",
       "\n",
       "            district_id         S_CLIMATE_RECESSSAFETY           ...  \\\n",
       "                  count     sum                  count      sum  ...   \n",
       "s_treatment                                                      ...   \n",
       "0                   829  505216                    829  2172.43  ...   \n",
       "1                   147   79233                    147   425.66  ...   \n",
       "\n",
       "            S_YOUTHDEV_INTERACTIONS          S_YOUTHDEV_PEERCONFLICT           \\\n",
       "                              count      sum                   count      sum   \n",
       "s_treatment                                                                     \n",
       "0                               829  2560.17                     829  1575.50   \n",
       "1                               147   487.99                     147   326.31   \n",
       "\n",
       "            S_YOUTHDEV_PEERNONCONFLICT          S_PHYSICAL_SELFCONCEPT  \\\n",
       "                                 count      sum                  count   \n",
       "s_treatment                                                              \n",
       "0                                  829  1230.75                    829   \n",
       "1                                  147   271.00                    147   \n",
       "\n",
       "                        PS              \n",
       "                 sum count         sum  \n",
       "s_treatment                             \n",
       "0            1372.54   829  113.251941  \n",
       "1             254.34   147   33.246415  \n",
       "\n",
       "[2 rows x 44 columns]"
      ]
     },
     "execution_count": 97,
     "metadata": {},
     "output_type": "execute_result"
    }
   ],
   "source": [
    "df_user.groupby('s_treatment', as_index=False).agg(['count', 'sum'])"
   ]
  },
  {
   "cell_type": "markdown",
   "id": "9d0ae2f3-18ed-46b8-b4a1-8749b5ea0c99",
   "metadata": {},
   "source": [
    "#### 集計値を更に計算させる"
   ]
  },
  {
   "cell_type": "code",
   "execution_count": 99,
   "id": "b560a325-9804-4eca-9b50-330bafc38163",
   "metadata": {},
   "outputs": [
    {
     "data": {
      "text/html": [
       "<div>\n",
       "<style scoped>\n",
       "    .dataframe tbody tr th:only-of-type {\n",
       "        vertical-align: middle;\n",
       "    }\n",
       "\n",
       "    .dataframe tbody tr th {\n",
       "        vertical-align: top;\n",
       "    }\n",
       "\n",
       "    .dataframe thead th {\n",
       "        text-align: right;\n",
       "    }\n",
       "</style>\n",
       "<table border=\"1\" class=\"dataframe\">\n",
       "  <thead>\n",
       "    <tr style=\"text-align: right;\">\n",
       "      <th></th>\n",
       "      <th>s_treatment</th>\n",
       "      <th>student_id</th>\n",
       "      <th>teacher_id</th>\n",
       "      <th>School_id</th>\n",
       "      <th>district_id</th>\n",
       "      <th>S_CLIMATE_RECESSSAFETY</th>\n",
       "      <th>student_gender</th>\n",
       "      <th>s_grade</th>\n",
       "      <th>S_CLIMATE_COMMUNITY</th>\n",
       "      <th>S_CLIMATE_SCHOOLSAFETY</th>\n",
       "      <th>...</th>\n",
       "      <th>S_LEARNING_RECESSEFFECT</th>\n",
       "      <th>S_LEARNING_SPORTSEFFECT</th>\n",
       "      <th>S_LEARNING_ENGAGEMENT</th>\n",
       "      <th>S_RECESS_ORGANIZED</th>\n",
       "      <th>S_RECESS_ENJOYMENT</th>\n",
       "      <th>S_YOUTHDEV_INTERACTIONS</th>\n",
       "      <th>S_YOUTHDEV_PEERCONFLICT</th>\n",
       "      <th>S_YOUTHDEV_PEERNONCONFLICT</th>\n",
       "      <th>S_PHYSICAL_SELFCONCEPT</th>\n",
       "      <th>PS</th>\n",
       "    </tr>\n",
       "  </thead>\n",
       "  <tbody>\n",
       "    <tr>\n",
       "      <th>0</th>\n",
       "      <td>0</td>\n",
       "      <td>1001207</td>\n",
       "      <td>105914</td>\n",
       "      <td>9966</td>\n",
       "      <td>1091</td>\n",
       "      <td>5.00</td>\n",
       "      <td>-8</td>\n",
       "      <td>9</td>\n",
       "      <td>5.08</td>\n",
       "      <td>-5.0</td>\n",
       "      <td>...</td>\n",
       "      <td>-5.0</td>\n",
       "      <td>-5.0</td>\n",
       "      <td>-5.0</td>\n",
       "      <td>-6.0</td>\n",
       "      <td>-5.0</td>\n",
       "      <td>-5.0</td>\n",
       "      <td>-5.00</td>\n",
       "      <td>-5.0</td>\n",
       "      <td>-7.0</td>\n",
       "      <td>0.767730</td>\n",
       "    </tr>\n",
       "    <tr>\n",
       "      <th>1</th>\n",
       "      <td>1</td>\n",
       "      <td>1003847</td>\n",
       "      <td>113552</td>\n",
       "      <td>7214</td>\n",
       "      <td>1078</td>\n",
       "      <td>5.25</td>\n",
       "      <td>1</td>\n",
       "      <td>9</td>\n",
       "      <td>5.46</td>\n",
       "      <td>-5.0</td>\n",
       "      <td>...</td>\n",
       "      <td>5.0</td>\n",
       "      <td>-5.0</td>\n",
       "      <td>5.9</td>\n",
       "      <td>3.0</td>\n",
       "      <td>6.0</td>\n",
       "      <td>5.0</td>\n",
       "      <td>4.88</td>\n",
       "      <td>5.0</td>\n",
       "      <td>3.0</td>\n",
       "      <td>0.936914</td>\n",
       "    </tr>\n",
       "  </tbody>\n",
       "</table>\n",
       "<p>2 rows × 23 columns</p>\n",
       "</div>"
      ],
      "text/plain": [
       "   s_treatment  student_id  teacher_id  School_id  district_id  \\\n",
       "0            0     1001207      105914       9966         1091   \n",
       "1            1     1003847      113552       7214         1078   \n",
       "\n",
       "   S_CLIMATE_RECESSSAFETY  student_gender  s_grade  S_CLIMATE_COMMUNITY  \\\n",
       "0                    5.00              -8        9                 5.08   \n",
       "1                    5.25               1        9                 5.46   \n",
       "\n",
       "   S_CLIMATE_SCHOOLSAFETY  ...  S_LEARNING_RECESSEFFECT  \\\n",
       "0                    -5.0  ...                     -5.0   \n",
       "1                    -5.0  ...                      5.0   \n",
       "\n",
       "   S_LEARNING_SPORTSEFFECT  S_LEARNING_ENGAGEMENT  S_RECESS_ORGANIZED  \\\n",
       "0                     -5.0                   -5.0                -6.0   \n",
       "1                     -5.0                    5.9                 3.0   \n",
       "\n",
       "   S_RECESS_ENJOYMENT  S_YOUTHDEV_INTERACTIONS  S_YOUTHDEV_PEERCONFLICT  \\\n",
       "0                -5.0                     -5.0                    -5.00   \n",
       "1                 6.0                      5.0                     4.88   \n",
       "\n",
       "   S_YOUTHDEV_PEERNONCONFLICT  S_PHYSICAL_SELFCONCEPT        PS  \n",
       "0                        -5.0                    -7.0  0.767730  \n",
       "1                         5.0                     3.0  0.936914  \n",
       "\n",
       "[2 rows x 23 columns]"
      ]
     },
     "execution_count": 99,
     "metadata": {},
     "output_type": "execute_result"
    }
   ],
   "source": [
    "df_user.groupby('s_treatment', as_index=False).agg(lambda x: max(x) + min(x))"
   ]
  },
  {
   "cell_type": "markdown",
   "id": "e76bf9a1-243a-4c18-b48e-1a33b62f75a2",
   "metadata": {},
   "source": [
    "#### 集計値をグラフ化させる"
   ]
  },
  {
   "cell_type": "code",
   "execution_count": 100,
   "id": "9ba52815-3a29-4b57-ac3d-b199ad7b7aa0",
   "metadata": {},
   "outputs": [
    {
     "data": {
      "text/plain": [
       "<AxesSubplot:xlabel='s_treatment', ylabel='student_gender'>"
      ]
     },
     "execution_count": 100,
     "metadata": {},
     "output_type": "execute_result"
    },
    {
     "data": {
      "image/png": "[encoded data removed]",
      "text/plain": [
       "<Figure size 432x288 with 1 Axes>"
      ]
     },
     "metadata": {},
     "output_type": "display_data"
    }
   ],
   "source": [
    "agg_df = df_user.groupby('s_treatment', as_index=False).agg({'student_gender': 'count'})\n",
    "sns.barplot(x = 's_treatment', y = 'student_gender', data = agg_df)"
   ]
  },
  {
   "cell_type": "markdown",
   "id": "623f0ab6-1f6c-4a0c-b2b5-6e194161ab5f",
   "metadata": {},
   "source": [
    "#### 2つのカテゴリ変数でデータを集計したい場合"
   ]
  },
  {
   "cell_type": "code",
   "execution_count": 110,
   "id": "c5b819ba-9de8-4ca5-a3d2-442cc6b0b262",
   "metadata": {},
   "outputs": [
    {
     "data": {
      "text/html": [
       "<div>\n",
       "<style scoped>\n",
       "    .dataframe tbody tr th:only-of-type {\n",
       "        vertical-align: middle;\n",
       "    }\n",
       "\n",
       "    .dataframe tbody tr th {\n",
       "        vertical-align: top;\n",
       "    }\n",
       "\n",
       "    .dataframe thead th {\n",
       "        text-align: right;\n",
       "    }\n",
       "</style>\n",
       "<table border=\"1\" class=\"dataframe\">\n",
       "  <thead>\n",
       "    <tr style=\"text-align: right;\">\n",
       "      <th>student_gender</th>\n",
       "      <th>0</th>\n",
       "      <th>1</th>\n",
       "      <th>All</th>\n",
       "    </tr>\n",
       "    <tr>\n",
       "      <th>s_treatment</th>\n",
       "      <th></th>\n",
       "      <th></th>\n",
       "      <th></th>\n",
       "    </tr>\n",
       "  </thead>\n",
       "  <tbody>\n",
       "    <tr>\n",
       "      <th>0</th>\n",
       "      <td>2.712641</td>\n",
       "      <td>2.663270</td>\n",
       "      <td>2.687657</td>\n",
       "    </tr>\n",
       "    <tr>\n",
       "      <th>1</th>\n",
       "      <td>3.002113</td>\n",
       "      <td>3.023289</td>\n",
       "      <td>3.013061</td>\n",
       "    </tr>\n",
       "    <tr>\n",
       "      <th>All</th>\n",
       "      <td>2.755458</td>\n",
       "      <td>2.718545</td>\n",
       "      <td>2.736718</td>\n",
       "    </tr>\n",
       "  </tbody>\n",
       "</table>\n",
       "</div>"
      ],
      "text/plain": [
       "student_gender         0         1       All\n",
       "s_treatment                                 \n",
       "0               2.712641  2.663270  2.687657\n",
       "1               3.002113  3.023289  3.013061\n",
       "All             2.755458  2.718545  2.736718"
      ]
     },
     "execution_count": 110,
     "metadata": {},
     "output_type": "execute_result"
    }
   ],
   "source": [
    "pd.pivot_table(df_user,                          #元のDataFrame\n",
    "               index='s_treatment',              #インデックス\n",
    "               columns='student_gender',         #カラム\n",
    "               values='S_CLIMATE_COMMUNITY',     #集計対象のカラム\n",
    "               margins=True,                     #小計を表示させるか\n",
    "               aggfunc=np.mean                   #小計の集計形式\n",
    ")"
   ]
  },
  {
   "cell_type": "markdown",
   "id": "6292a087-98d9-458d-95a2-13c71918fd09",
   "metadata": {},
   "source": [
    "### 4.時系列"
   ]
  },
  {
   "cell_type": "code",
   "execution_count": 135,
   "id": "635202fe-7f55-4b4c-9bd2-2caf424e81ff",
   "metadata": {},
   "outputs": [
    {
     "data": {
      "image/png": "[encoded data removed]",
      "text/plain": [
       "<Figure size 432x288 with 1 Axes>"
      ]
     },
     "metadata": {},
     "output_type": "display_data"
    }
   ],
   "source": [
    "sns.set()\n",
    "sns.set_context(\"paper\")                                              #グラフの文字サイズ\n",
    "sns.set_theme(style=\"whitegrid\")                                      #グリッドのスタイル\n",
    "sns.lineplot(x='date',                                                #x軸\n",
    "             y='confirmed_cases',                                     #y軸\n",
    "             hue='country',                                           #\n",
    "             data=df_time\n",
    ")\n",
    "plt.gca().xaxis.set_major_locator(mdates.MonthLocator(interval=6))\n",
    "plt.show()"
   ]
  },
  {
   "cell_type": "code",
   "execution_count": null,
   "id": "82dfad4c-1097-42a8-8973-90c3a91f16a1",
   "metadata": {},
   "outputs": [],
   "source": []
  }
 ],
 "metadata": {
  "kernelspec": {
   "display_name": "Python 3",
   "language": "python",
   "name": "python3"
  },
  "language_info": {
   "codemirror_mode": {
    "name": "ipython",
    "version": 3
   },
   "file_extension": ".py",
   "mimetype": "text/x-python",
   "name": "python",
   "nbconvert_exporter": "python",
   "pygments_lexer": "ipython3",
   "version": "3.8.8"
  }
 },
 "nbformat": 4,
 "nbformat_minor": 5
}
